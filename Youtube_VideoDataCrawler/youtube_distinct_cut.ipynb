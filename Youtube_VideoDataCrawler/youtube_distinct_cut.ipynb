{
 "cells": [
  {
   "cell_type": "code",
   "execution_count": 2,
   "metadata": {},
   "outputs": [],
   "source": [
    "import pandas as pd\n",
    "import numpy as no\n",
    "import re\n",
    "import matplotlib.pyplot as plt"
   ]
  },
  {
   "cell_type": "code",
   "execution_count": 16,
   "metadata": {},
   "outputs": [
    {
     "data": {
      "text/plain": [
       "<bound method NDFrame.head of                                                  title    authorNick  \\\n",
       "0         [20-21 V-리그 여자배구] 201208  한국도로공사 VS 현대건설 풀영상        나날이디벨롭   \n",
       "1                   🏐주간배구 7회 다시보기 (12월 7일 FULL REPLAY)    SBS Sports   \n",
       "2    V리그에 '사기캐릭' 등장?! 형들 씹어먹는 19살 배구 괴물 케이타!! 레전드 가...     MBC스포츠탐험대   \n",
       "3                    [V리그] 흥국생명 vs GS칼텍스 하이라이트 (12.05)         SPOTV   \n",
       "4          \"너무 예뻐 난리난\" 여자배구 선수들 누구? 더욱 강력해진 2탄 라인업 ㄷㄷㄷ        배구왕 TV   \n",
       "..                                                 ...           ...   \n",
       "738        렉걸리는 블루스택 1분만에 최적화 하는방법!![어몽어스 렉걸리는분들 보세요!]           풀네임   \n",
       "739                     [Webcast] 네트워크 가상화와 VMware NSX  VMware Korea   \n",
       "740  140226 VMware : 서버 가상화로부터 시작되는 소프트웨어 정의 데이터센터로...       utvplus   \n",
       "741            VMware Horizon이란? 데스크톱 및 애플리케이션 가상화 솔루션  VMware Korea   \n",
       "742                                메인보드 가상화 바이오스 설정 방법          모바일랩   \n",
       "\n",
       "                                         urlPath  \\\n",
       "0    https://www.youtube.com/watch?v=zGEDyMoJldY   \n",
       "1    https://www.youtube.com/watch?v=UnjEQajfgww   \n",
       "2    https://www.youtube.com/watch?v=XE9WwgCZVic   \n",
       "3    https://www.youtube.com/watch?v=DfszN2M_GX4   \n",
       "4    https://www.youtube.com/watch?v=8AhwVIUlNXo   \n",
       "..                                           ...   \n",
       "738  https://www.youtube.com/watch?v=uf03_XgDy_w   \n",
       "739  https://www.youtube.com/watch?v=XOc84430Lbo   \n",
       "740  https://www.youtube.com/watch?v=1s05JdI1_3Y   \n",
       "741  https://www.youtube.com/watch?v=9Z_IzSQMLp4   \n",
       "742  https://www.youtube.com/watch?v=8JNniuhl7HI   \n",
       "\n",
       "                                              thumbUrl  likeCnt  dislikeCnt  \\\n",
       "0    https://i.ytimg.com/vi/zGEDyMoJldY/maxresdefau...      205          14   \n",
       "1    https://i.ytimg.com/vi/UnjEQajfgww/maxresdefau...       32           1   \n",
       "2     https://i.ytimg.com/vi/XE9WwgCZVic/hqdefault.jpg     3365         129   \n",
       "3    https://i.ytimg.com/vi/DfszN2M_GX4/maxresdefau...     1389          41   \n",
       "4     https://i.ytimg.com/vi/8AhwVIUlNXo/hqdefault.jpg       66           7   \n",
       "..                                                 ...      ...         ...   \n",
       "738  https://i.ytimg.com/vi/uf03_XgDy_w/maxresdefau...      136          12   \n",
       "739  https://i.ytimg.com/vi/XOc84430Lbo/maxresdefau...       58           2   \n",
       "740  https://i.ytimg.com/vi/1s05JdI1_3Y/maxresdefau...       14           0   \n",
       "741  https://i.ytimg.com/vi/9Z_IzSQMLp4/maxresdefau...        5           0   \n",
       "742  https://i.ytimg.com/vi/8JNniuhl7HI/maxresdefau...       91           4   \n",
       "\n",
       "     followCnt  viewCnt  duration           utbCategory  utbCateSN  \\\n",
       "0         1160    15793      8674                Sports         17   \n",
       "1        93699     2172      3701                Sports         17   \n",
       "2       226000  1142330       529                Sports         17   \n",
       "3      1460000   122531      1069                Sports         17   \n",
       "4        15600     9903       197                Sports         17   \n",
       "..         ...      ...       ...                   ...        ...   \n",
       "738       1490    23053       331                Gaming         20   \n",
       "739        951     6300      3370  Science & Technology         28   \n",
       "740       1100     3325      3711             Education         27   \n",
       "741        951      437       194  Science & Technology         28   \n",
       "742     133000    13319       323         Howto & Style         26   \n",
       "\n",
       "     isFamilyFriendly     titleHashTags  \\\n",
       "0                True  여자배구,한국도로공사,현대건설   \n",
       "1                True       V리그,프로배구,배구   \n",
       "2                True        V리그,케이타,괴물   \n",
       "3                True               NaN   \n",
       "4                True   여자배구,배구,미녀_배구선수   \n",
       "..                ...               ...   \n",
       "738              True               NaN   \n",
       "739              True               NaN   \n",
       "740              True               NaN   \n",
       "741              True               NaN   \n",
       "742              True               NaN   \n",
       "\n",
       "                                          descHashTags   utbVideoID  \\\n",
       "0    여자배구,한국도로공사,현대건설,여자배구,배구,흥국생명,현대건설,GS칼텍스,KGC인삼...  zGEDyMoJldY   \n",
       "1                           V리그,프로배구,배구,sbssports,kovo  UnjEQajfgww   \n",
       "2                                           V리그,케이타,괴물  XE9WwgCZVic   \n",
       "3                                                  NaN  DfszN2M_GX4   \n",
       "4                                      여자배구,배구,미녀_배구선수  8AhwVIUlNXo   \n",
       "..                                                 ...          ...   \n",
       "738                                                NaN  uf03_XgDy_w   \n",
       "739                                                NaN  XOc84430Lbo   \n",
       "740                                                NaN  1s05JdI1_3Y   \n",
       "741                                                NaN  9Z_IzSQMLp4   \n",
       "742                                                NaN  8JNniuhl7HI   \n",
       "\n",
       "                     authorID yUploadDateTime  \\\n",
       "0    UCgerZafQFtlNrXCjTOYOu1Q      2020-12-08   \n",
       "1    UCqsKWTIu7IhBjLFZS2s1ULQ      2020-12-08   \n",
       "2    UCArK9MK34LsQzPJrl5TZmYA      2020-11-12   \n",
       "3    UCtm_QoN2SIxwCE-59shX7Qg      2020-12-05   \n",
       "4    UCvynsXQSUImxMIRFFkzgGCg      2020-12-08   \n",
       "..                        ...             ...   \n",
       "738  UCZZaXpNo1r4Bh3rs4vvRYxg      2020-08-23   \n",
       "739  UCXFuIL8nQ5mq0FsBGRL5ufQ      2016-07-06   \n",
       "740  UCR9-9p-6wNT5K_fcax9nrow      2014-03-06   \n",
       "741  UCXFuIL8nQ5mq0FsBGRL5ufQ      2020-04-15   \n",
       "742  UCP7VFsrE5nztR238DGoEt_g      2018-11-06   \n",
       "\n",
       "                                              keywords searchKeyword  \n",
       "0    여자배구,여배,배구,라이브,풀영상,경기영상,흥국생명,이다영,이재영,김연경,김미연,박...            배구  \n",
       "1                                                  NaN            배구  \n",
       "2                MBC,배구,케이타,kb손해보험,레오,가빈,사기 용병,생태계 파괴자            배구  \n",
       "3                                           SPOTV,스포티비            배구  \n",
       "4                           배구,여자배구,여자배구선수,배구선수 이진,채선아            배구  \n",
       "..                                                 ...           ...  \n",
       "738                                  어몽어스,블루스택,최적화,가상화           가상화  \n",
       "739  VMware,webcast,NSX,VMware NSX,Network Virtuali...           가상화  \n",
       "740                   VMware,클라우드,vSphere,SDDC,가상화,UTV           가상화  \n",
       "741                                     VMware,Horizon           가상화  \n",
       "742                                            AMD,가상화           가상화  \n",
       "\n",
       "[743 rows x 19 columns]>"
      ]
     },
     "execution_count": 16,
     "metadata": {},
     "output_type": "execute_result"
    }
   ],
   "source": [
    "filename = '1210_youtube_';\n",
    "\n",
    "df = pd.read_csv('./'+filename+'.csv', sep= '|', error_bad_lines=False)\n",
    "\n",
    "df.head"
   ]
  },
  {
   "cell_type": "code",
   "execution_count": 17,
   "metadata": {},
   "outputs": [
    {
     "data": {
      "text/plain": [
       "(743, 19)"
      ]
     },
     "execution_count": 17,
     "metadata": {},
     "output_type": "execute_result"
    }
   ],
   "source": [
    "df.shape"
   ]
  },
  {
   "cell_type": "code",
   "execution_count": 18,
   "metadata": {},
   "outputs": [
    {
     "data": {
      "text/plain": [
       "Index(['title', 'authorNick', 'urlPath', 'thumbUrl', 'likeCnt', 'dislikeCnt',\n",
       "       'followCnt', 'viewCnt', 'duration', 'utbCategory', 'utbCateSN',\n",
       "       'isFamilyFriendly', 'titleHashTags', 'descHashTags', 'utbVideoID',\n",
       "       'authorID', 'yUploadDateTime', 'keywords', 'searchKeyword'],\n",
       "      dtype='object')"
      ]
     },
     "execution_count": 18,
     "metadata": {},
     "output_type": "execute_result"
    }
   ],
   "source": [
    "df.columns"
   ]
  },
  {
   "cell_type": "code",
   "execution_count": 19,
   "metadata": {},
   "outputs": [],
   "source": [
    "df = df.drop_duplicates(\"title\", keep= False)"
   ]
  },
  {
   "cell_type": "code",
   "execution_count": 20,
   "metadata": {
    "scrolled": true
   },
   "outputs": [
    {
     "data": {
      "text/plain": [
       "<bound method NDFrame.head of                                                  title    authorNick  \\\n",
       "0         [20-21 V-리그 여자배구] 201208  한국도로공사 VS 현대건설 풀영상        나날이디벨롭   \n",
       "1                   🏐주간배구 7회 다시보기 (12월 7일 FULL REPLAY)    SBS Sports   \n",
       "2    V리그에 '사기캐릭' 등장?! 형들 씹어먹는 19살 배구 괴물 케이타!! 레전드 가...     MBC스포츠탐험대   \n",
       "3                    [V리그] 흥국생명 vs GS칼텍스 하이라이트 (12.05)         SPOTV   \n",
       "4          \"너무 예뻐 난리난\" 여자배구 선수들 누구? 더욱 강력해진 2탄 라인업 ㄷㄷㄷ        배구왕 TV   \n",
       "..                                                 ...           ...   \n",
       "738        렉걸리는 블루스택 1분만에 최적화 하는방법!![어몽어스 렉걸리는분들 보세요!]           풀네임   \n",
       "739                     [Webcast] 네트워크 가상화와 VMware NSX  VMware Korea   \n",
       "740  140226 VMware : 서버 가상화로부터 시작되는 소프트웨어 정의 데이터센터로...       utvplus   \n",
       "741            VMware Horizon이란? 데스크톱 및 애플리케이션 가상화 솔루션  VMware Korea   \n",
       "742                                메인보드 가상화 바이오스 설정 방법          모바일랩   \n",
       "\n",
       "                                         urlPath  \\\n",
       "0    https://www.youtube.com/watch?v=zGEDyMoJldY   \n",
       "1    https://www.youtube.com/watch?v=UnjEQajfgww   \n",
       "2    https://www.youtube.com/watch?v=XE9WwgCZVic   \n",
       "3    https://www.youtube.com/watch?v=DfszN2M_GX4   \n",
       "4    https://www.youtube.com/watch?v=8AhwVIUlNXo   \n",
       "..                                           ...   \n",
       "738  https://www.youtube.com/watch?v=uf03_XgDy_w   \n",
       "739  https://www.youtube.com/watch?v=XOc84430Lbo   \n",
       "740  https://www.youtube.com/watch?v=1s05JdI1_3Y   \n",
       "741  https://www.youtube.com/watch?v=9Z_IzSQMLp4   \n",
       "742  https://www.youtube.com/watch?v=8JNniuhl7HI   \n",
       "\n",
       "                                              thumbUrl  likeCnt  dislikeCnt  \\\n",
       "0    https://i.ytimg.com/vi/zGEDyMoJldY/maxresdefau...      205          14   \n",
       "1    https://i.ytimg.com/vi/UnjEQajfgww/maxresdefau...       32           1   \n",
       "2     https://i.ytimg.com/vi/XE9WwgCZVic/hqdefault.jpg     3365         129   \n",
       "3    https://i.ytimg.com/vi/DfszN2M_GX4/maxresdefau...     1389          41   \n",
       "4     https://i.ytimg.com/vi/8AhwVIUlNXo/hqdefault.jpg       66           7   \n",
       "..                                                 ...      ...         ...   \n",
       "738  https://i.ytimg.com/vi/uf03_XgDy_w/maxresdefau...      136          12   \n",
       "739  https://i.ytimg.com/vi/XOc84430Lbo/maxresdefau...       58           2   \n",
       "740  https://i.ytimg.com/vi/1s05JdI1_3Y/maxresdefau...       14           0   \n",
       "741  https://i.ytimg.com/vi/9Z_IzSQMLp4/maxresdefau...        5           0   \n",
       "742  https://i.ytimg.com/vi/8JNniuhl7HI/maxresdefau...       91           4   \n",
       "\n",
       "     followCnt  viewCnt  duration           utbCategory  utbCateSN  \\\n",
       "0         1160    15793      8674                Sports         17   \n",
       "1        93699     2172      3701                Sports         17   \n",
       "2       226000  1142330       529                Sports         17   \n",
       "3      1460000   122531      1069                Sports         17   \n",
       "4        15600     9903       197                Sports         17   \n",
       "..         ...      ...       ...                   ...        ...   \n",
       "738       1490    23053       331                Gaming         20   \n",
       "739        951     6300      3370  Science & Technology         28   \n",
       "740       1100     3325      3711             Education         27   \n",
       "741        951      437       194  Science & Technology         28   \n",
       "742     133000    13319       323         Howto & Style         26   \n",
       "\n",
       "     isFamilyFriendly     titleHashTags  \\\n",
       "0                True  여자배구,한국도로공사,현대건설   \n",
       "1                True       V리그,프로배구,배구   \n",
       "2                True        V리그,케이타,괴물   \n",
       "3                True               NaN   \n",
       "4                True   여자배구,배구,미녀_배구선수   \n",
       "..                ...               ...   \n",
       "738              True               NaN   \n",
       "739              True               NaN   \n",
       "740              True               NaN   \n",
       "741              True               NaN   \n",
       "742              True               NaN   \n",
       "\n",
       "                                          descHashTags   utbVideoID  \\\n",
       "0    여자배구,한국도로공사,현대건설,여자배구,배구,흥국생명,현대건설,GS칼텍스,KGC인삼...  zGEDyMoJldY   \n",
       "1                           V리그,프로배구,배구,sbssports,kovo  UnjEQajfgww   \n",
       "2                                           V리그,케이타,괴물  XE9WwgCZVic   \n",
       "3                                                  NaN  DfszN2M_GX4   \n",
       "4                                      여자배구,배구,미녀_배구선수  8AhwVIUlNXo   \n",
       "..                                                 ...          ...   \n",
       "738                                                NaN  uf03_XgDy_w   \n",
       "739                                                NaN  XOc84430Lbo   \n",
       "740                                                NaN  1s05JdI1_3Y   \n",
       "741                                                NaN  9Z_IzSQMLp4   \n",
       "742                                                NaN  8JNniuhl7HI   \n",
       "\n",
       "                     authorID yUploadDateTime  \\\n",
       "0    UCgerZafQFtlNrXCjTOYOu1Q      2020-12-08   \n",
       "1    UCqsKWTIu7IhBjLFZS2s1ULQ      2020-12-08   \n",
       "2    UCArK9MK34LsQzPJrl5TZmYA      2020-11-12   \n",
       "3    UCtm_QoN2SIxwCE-59shX7Qg      2020-12-05   \n",
       "4    UCvynsXQSUImxMIRFFkzgGCg      2020-12-08   \n",
       "..                        ...             ...   \n",
       "738  UCZZaXpNo1r4Bh3rs4vvRYxg      2020-08-23   \n",
       "739  UCXFuIL8nQ5mq0FsBGRL5ufQ      2016-07-06   \n",
       "740  UCR9-9p-6wNT5K_fcax9nrow      2014-03-06   \n",
       "741  UCXFuIL8nQ5mq0FsBGRL5ufQ      2020-04-15   \n",
       "742  UCP7VFsrE5nztR238DGoEt_g      2018-11-06   \n",
       "\n",
       "                                              keywords searchKeyword  \n",
       "0    여자배구,여배,배구,라이브,풀영상,경기영상,흥국생명,이다영,이재영,김연경,김미연,박...            배구  \n",
       "1                                                  NaN            배구  \n",
       "2                MBC,배구,케이타,kb손해보험,레오,가빈,사기 용병,생태계 파괴자            배구  \n",
       "3                                           SPOTV,스포티비            배구  \n",
       "4                           배구,여자배구,여자배구선수,배구선수 이진,채선아            배구  \n",
       "..                                                 ...           ...  \n",
       "738                                  어몽어스,블루스택,최적화,가상화           가상화  \n",
       "739  VMware,webcast,NSX,VMware NSX,Network Virtuali...           가상화  \n",
       "740                   VMware,클라우드,vSphere,SDDC,가상화,UTV           가상화  \n",
       "741                                     VMware,Horizon           가상화  \n",
       "742                                            AMD,가상화           가상화  \n",
       "\n",
       "[715 rows x 19 columns]>"
      ]
     },
     "execution_count": 20,
     "metadata": {},
     "output_type": "execute_result"
    }
   ],
   "source": [
    "df.head"
   ]
  },
  {
   "cell_type": "code",
   "execution_count": 21,
   "metadata": {},
   "outputs": [
    {
     "data": {
      "text/plain": [
       "(715, 19)"
      ]
     },
     "execution_count": 21,
     "metadata": {},
     "output_type": "execute_result"
    }
   ],
   "source": [
    "df.shape"
   ]
  },
  {
   "cell_type": "code",
   "execution_count": 22,
   "metadata": {},
   "outputs": [],
   "source": [
    "df.to_csv('./distinct_data/'+filename+'_dist.csv', sep=\"|\",header=False,index=False, encoding='utf-8-sig')"
   ]
  }
 ],
 "metadata": {
  "kernelspec": {
   "display_name": "Python 3",
   "language": "python",
   "name": "python3"
  },
  "language_info": {
   "codemirror_mode": {
    "name": "ipython",
    "version": 3
   },
   "file_extension": ".py",
   "mimetype": "text/x-python",
   "name": "python",
   "nbconvert_exporter": "python",
   "pygments_lexer": "ipython3",
   "version": "3.7.6"
  }
 },
 "nbformat": 4,
 "nbformat_minor": 4
}
